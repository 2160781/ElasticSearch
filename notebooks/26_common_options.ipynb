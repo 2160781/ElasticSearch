{
 "cells": [
  {
   "cell_type": "markdown",
   "metadata": {},
   "source": [
    "## Documentation\n",
    "\n",
    "To read more about the common options in Elasticsearch, checkout the docs [here](https://www.elastic.co/guide/en/elasticsearch/reference/current/common-options.html#date-math).\n",
    "\n",
    "![common_options_docs](../images/common_options_docs.png)"
   ]
  },
  {
   "cell_type": "markdown",
   "metadata": {},
   "source": [
    "## Connect to ElasticSearch"
   ]
  },
  {
   "cell_type": "code",
   "execution_count": 1,
   "metadata": {},
   "outputs": [
    {
     "name": "stdout",
     "output_type": "stream",
     "text": [
      "Connected to Elasticsearch!\n",
      "{'cluster_name': 'docker-cluster',\n",
      " 'cluster_uuid': 'DlYG5m9gR3upn7qgaYyAJA',\n",
      " 'name': '3d37442d2591',\n",
      " 'tagline': 'You Know, for Search',\n",
      " 'version': {'build_date': '2024-08-05T10:05:34.233336849Z',\n",
      "             'build_flavor': 'default',\n",
      "             'build_hash': '1a77947f34deddb41af25e6f0ddb8e830159c179',\n",
      "             'build_snapshot': False,\n",
      "             'build_type': 'docker',\n",
      "             'lucene_version': '9.11.1',\n",
      "             'minimum_index_compatibility_version': '7.0.0',\n",
      "             'minimum_wire_compatibility_version': '7.17.0',\n",
      "             'number': '8.15.0'}}\n"
     ]
    }
   ],
   "source": [
    "from pprint import pprint\n",
    "from elasticsearch import Elasticsearch\n",
    "\n",
    "es = Elasticsearch('http://localhost:9200')\n",
    "client_info = es.info()\n",
    "print('Connected to Elasticsearch!')\n",
    "pprint(client_info.body)"
   ]
  },
  {
   "cell_type": "markdown",
   "metadata": {},
   "source": [
    "## 1. Human-readable output"
   ]
  },
  {
   "cell_type": "code",
   "execution_count": 2,
   "metadata": {},
   "outputs": [
    {
     "name": "stdout",
     "output_type": "stream",
     "text": [
      "{'max_uptime': '6.9m',\n",
      " 'max_uptime_in_millis': 417648,\n",
      " 'mem': {'heap_max': '7.6gb',\n",
      "         'heap_max_in_bytes': 8183087104,\n",
      "         'heap_used': '644.3mb',\n",
      "         'heap_used_in_bytes': 675663848},\n",
      " 'threads': 80,\n",
      " 'versions': [{'bundled_jdk': True,\n",
      "               'count': 1,\n",
      "               'using_bundled_jdk': True,\n",
      "               'version': '22.0.1',\n",
      "               'vm_name': 'OpenJDK 64-Bit Server VM',\n",
      "               'vm_vendor': 'Oracle Corporation',\n",
      "               'vm_version': '22.0.1+8-16'}]}\n"
     ]
    }
   ],
   "source": [
    "response = es.cluster.stats(human=True)\n",
    "pprint(response[\"nodes\"][\"jvm\"])"
   ]
  },
  {
   "cell_type": "code",
   "execution_count": 4,
   "metadata": {},
   "outputs": [
    {
     "name": "stdout",
     "output_type": "stream",
     "text": [
      "{'max_uptime_in_millis': 439500,\n",
      " 'mem': {'heap_max_in_bytes': 8183087104, 'heap_used_in_bytes': 684052456},\n",
      " 'threads': 81,\n",
      " 'versions': [{'bundled_jdk': True,\n",
      "               'count': 1,\n",
      "               'using_bundled_jdk': True,\n",
      "               'version': '22.0.1',\n",
      "               'vm_name': 'OpenJDK 64-Bit Server VM',\n",
      "               'vm_vendor': 'Oracle Corporation',\n",
      "               'vm_version': '22.0.1+8-16'}]}\n"
     ]
    }
   ],
   "source": [
    "response = es.cluster.stats(human=False)\n",
    "pprint(response[\"nodes\"][\"jvm\"])"
   ]
  },
  {
   "cell_type": "markdown",
   "metadata": {},
   "source": [
    "## 2. Date math"
   ]
  },
  {
   "cell_type": "code",
   "execution_count": 7,
   "metadata": {},
   "outputs": [
    {
     "data": {
      "text/plain": [
       "ObjectApiResponse({'errors': False, 'took': 9248868, 'items': [{'index': {'_index': 'my_index', '_id': 'r_zdMZMBT6aY_-5Ln0JZ', '_version': 1, 'result': 'created', '_shards': {'total': 2, 'successful': 1, 'failed': 0}, '_seq_no': 10, '_primary_term': 10, 'status': 201}}, {'index': {'_index': 'my_index', '_id': 'sPzdMZMBT6aY_-5Ln0Ja', '_version': 1, 'result': 'created', '_shards': {'total': 2, 'successful': 1, 'failed': 0}, '_seq_no': 11, '_primary_term': 10, 'status': 201}}, {'index': {'_index': 'my_index', '_id': 'sfzdMZMBT6aY_-5Ln0Ja', '_version': 1, 'result': 'created', '_shards': {'total': 2, 'successful': 1, 'failed': 0}, '_seq_no': 12, '_primary_term': 10, 'status': 201}}]})"
      ]
     },
     "execution_count": 7,
     "metadata": {},
     "output_type": "execute_result"
    }
   ],
   "source": [
    "import json\n",
    "\n",
    "operations = []\n",
    "index_name = 'my_index'\n",
    "dummy_data = json.load(open(\"../data/dummy_data.json\"))\n",
    "for document in dummy_data:\n",
    "    operations.append({'index': {'_index': index_name}})\n",
    "    operations.append(document)\n",
    "\n",
    "es.bulk(operations=operations)"
   ]
  },
  {
   "cell_type": "code",
   "execution_count": null,
   "metadata": {},
   "outputs": [
    {
     "name": "stdout",
     "output_type": "stream",
     "text": [
      "Found 2 documents\n"
     ]
    }
   ],
   "source": [
    "response = es.search(\n",
    "    index=index_name,\n",
    "    body={\n",
    "        \"query\": {\n",
    "            \"range\": {\n",
    "                \"created_on\": {\n",
    "                    \"gte\": \"2024-09-22||+1d/d\", # 2024-09-23\n",
    "                    \"lte\": \"now/d\"\n",
    "                }\n",
    "            }\n",
    "        }\n",
    "    }\n",
    ")\n",
    "hits = response['hits']['hits']\n",
    "print(f\"Found {len(hits)} documents\")"
   ]
  },
  {
   "cell_type": "code",
   "execution_count": null,
   "metadata": {},
   "outputs": [
    {
     "name": "stdout",
     "output_type": "stream",
     "text": [
      "Found 0 documents\n"
     ]
    }
   ],
   "source": [
    "response = es.search(\n",
    "    index=index_name,\n",
    "    body={\n",
    "        \"query\": {\n",
    "            \"range\": {\n",
    "                \"created_on\": {\n",
    "                    \"gte\": \"2024-09-22||+1M/d\", # 2024-09-22 + 1 month\n",
    "                    \"lte\": \"now/d\"\n",
    "                }\n",
    "            }\n",
    "        }\n",
    "    }\n",
    ")\n",
    "hits = response['hits']['hits']\n",
    "print(f\"Found {len(hits)} documents\")"
   ]
  },
  {
   "cell_type": "markdown",
   "metadata": {},
   "source": [
    "## 3. Response filtering"
   ]
  },
  {
   "cell_type": "markdown",
   "metadata": {},
   "source": [
    "### 3.1 Inclusive filtering"
   ]
  },
  {
   "cell_type": "code",
   "execution_count": 23,
   "metadata": {},
   "outputs": [
    {
     "name": "stdout",
     "output_type": "stream",
     "text": [
      "{'_shards': {'failed': 0, 'skipped': 0, 'successful': 1, 'total': 1},\n",
      " 'hits': {'hits': [{'_id': '3Eu8ApMB770u3lhz-QPW',\n",
      "                    '_index': 'my_index',\n",
      "                    '_score': 1.0,\n",
      "                    '_source': {'content': 'The Solar System consists of the '\n",
      "                                           'Sun and the objects that orbit it, '\n",
      "                                           'including eight planets, their '\n",
      "                                           'moons, dwarf planets, and '\n",
      "                                           'countless small bodies like '\n",
      "                                           'asteroids and comets.',\n",
      "                                'id': 1,\n",
      "                                'title': 'The Solar System'}},\n",
      "                   {'_id': '3Uu8ApMB770u3lhz-QPX',\n",
      "                    '_index': 'my_index',\n",
      "                    '_score': 1.0,\n",
      "                    '_source': {'content': 'A black hole is a region of space '\n",
      "                                           'where the gravitational pull is so '\n",
      "                                           'strong that nothing, not even '\n",
      "                                           'light, can escape from it. They '\n",
      "                                           'are formed when massive stars '\n",
      "                                           'collapse under their own gravity.',\n",
      "                                'id': 2,\n",
      "                                'title': 'Black Holes'}},\n",
      "                   {'_id': '3ku8ApMB770u3lhz-QPX',\n",
      "                    '_index': 'my_index',\n",
      "                    '_score': 1.0,\n",
      "                    '_source': {'content': 'Galaxies are vast systems that '\n",
      "                                           'consist of stars, stellar '\n",
      "                                           'remnants, interstellar gas, dust, '\n",
      "                                           'and dark matter. The Milky Way is '\n",
      "                                           'the galaxy that contains our Solar '\n",
      "                                           'System.',\n",
      "                                'id': 3,\n",
      "                                'title': 'Galaxies'}},\n",
      "                   {'_id': '30u8ApMB770u3lhz-QPY',\n",
      "                    '_index': 'my_index',\n",
      "                    '_score': 1.0,\n",
      "                    '_source': {'content': 'The Big Bang Theory is the leading '\n",
      "                                           'explanation about how the universe '\n",
      "                                           'began. It suggests that the '\n",
      "                                           'universe was once in an extremely '\n",
      "                                           'hot and dense state and has been '\n",
      "                                           'expanding ever since.',\n",
      "                                'id': 4,\n",
      "                                'title': 'The Big Bang Theory'}},\n",
      "                   {'_id': '4Eu8ApMB770u3lhz-QPY',\n",
      "                    '_index': 'my_index',\n",
      "                    '_score': 1.0,\n",
      "                    '_source': {'content': 'Exoplanets, or extrasolar planets, '\n",
      "                                           'are planets that exist outside our '\n",
      "                                           'solar system. They vary greatly in '\n",
      "                                           'size and composition and are often '\n",
      "                                           'found using methods like the '\n",
      "                                           'transit method and radial '\n",
      "                                           'velocity.',\n",
      "                                'id': 5,\n",
      "                                'title': 'Exoplanets'}},\n",
      "                   {'_id': '4Uu8ApMB770u3lhz-QPY',\n",
      "                    '_index': 'my_index',\n",
      "                    '_score': 1.0,\n",
      "                    '_source': {'content': 'Stars are born from clouds of gas '\n",
      "                                           'and dust in space. They undergo a '\n",
      "                                           'life cycle that includes stages '\n",
      "                                           'such as main sequence, red giant, '\n",
      "                                           'and, ultimately, either a '\n",
      "                                           'supernova explosion or a gentle '\n",
      "                                           'fade into a white dwarf.',\n",
      "                                'id': 6,\n",
      "                                'title': 'The Life Cycle of Stars'}},\n",
      "                   {'_id': '4ku8ApMB770u3lhz-QPY',\n",
      "                    '_index': 'my_index',\n",
      "                    '_score': 1.0,\n",
      "                    '_source': {'content': 'Astrobiology is the study of the '\n",
      "                                           'origin, evolution, distribution, '\n",
      "                                           'and future of life in the '\n",
      "                                           'universe. It combines elements of '\n",
      "                                           'biology, chemistry, and planetary '\n",
      "                                           'science.',\n",
      "                                'id': 7,\n",
      "                                'title': 'Astrobiology'}},\n",
      "                   {'_id': '40u8ApMB770u3lhz-QPY',\n",
      "                    '_index': 'my_index',\n",
      "                    '_score': 1.0,\n",
      "                    '_source': {'content': 'Dark matter is a type of matter '\n",
      "                                           'that does not emit light or '\n",
      "                                           'energy. It cannot be observed '\n",
      "                                           'directly but is believed to make '\n",
      "                                           \"up about 27% of the universe's \"\n",
      "                                           'total mass and energy.',\n",
      "                                'id': 8,\n",
      "                                'title': 'Dark Matter'}},\n",
      "                   {'_id': '5Eu8ApMB770u3lhz-QPY',\n",
      "                    '_index': 'my_index',\n",
      "                    '_score': 1.0,\n",
      "                    '_source': {'content': 'The universe has been expanding '\n",
      "                                           'since the Big Bang. Observations '\n",
      "                                           'of distant galaxies show that they '\n",
      "                                           'are moving away from us, which '\n",
      "                                           'supports the idea of an expanding '\n",
      "                                           'universe.',\n",
      "                                'id': 9,\n",
      "                                'title': 'The Expanding Universe'}},\n",
      "                   {'_id': '5Uu8ApMB770u3lhz-QPY',\n",
      "                    '_index': 'my_index',\n",
      "                    '_score': 1.0,\n",
      "                    '_source': {'content': 'Space exploration involves the use '\n",
      "                                           'of space technology to explore '\n",
      "                                           'outer space. It includes missions '\n",
      "                                           'to planets, moons, and other '\n",
      "                                           'celestial bodies, aiming to '\n",
      "                                           'discover more about the universe.',\n",
      "                                'id': 10,\n",
      "                                'title': 'Space Exploration'}}],\n",
      "          'max_score': 1.0,\n",
      "          'total': {'relation': 'eq', 'value': 13}},\n",
      " 'timed_out': False,\n",
      " 'took': 2}\n"
     ]
    }
   ],
   "source": [
    "response = es.search(\n",
    "    index=index_name,\n",
    "    body={\n",
    "        \"query\": {\n",
    "            \"match_all\": {}\n",
    "        }\n",
    "    },\n",
    ")\n",
    "pprint(response.body)"
   ]
  },
  {
   "cell_type": "code",
   "execution_count": null,
   "metadata": {},
   "outputs": [
    {
     "name": "stdout",
     "output_type": "stream",
     "text": [
      "{'hits': {'hits': [{'_id': '3Eu8ApMB770u3lhz-QPW',\n",
      "                    '_source': {'content': 'The Solar System consists of the '\n",
      "                                           'Sun and the objects that orbit it, '\n",
      "                                           'including eight planets, their '\n",
      "                                           'moons, dwarf planets, and '\n",
      "                                           'countless small bodies like '\n",
      "                                           'asteroids and comets.',\n",
      "                                'id': 1,\n",
      "                                'title': 'The Solar System'}},\n",
      "                   {'_id': '3Uu8ApMB770u3lhz-QPX',\n",
      "                    '_source': {'content': 'A black hole is a region of space '\n",
      "                                           'where the gravitational pull is so '\n",
      "                                           'strong that nothing, not even '\n",
      "                                           'light, can escape from it. They '\n",
      "                                           'are formed when massive stars '\n",
      "                                           'collapse under their own gravity.',\n",
      "                                'id': 2,\n",
      "                                'title': 'Black Holes'}},\n",
      "                   {'_id': '3ku8ApMB770u3lhz-QPX',\n",
      "                    '_source': {'content': 'Galaxies are vast systems that '\n",
      "                                           'consist of stars, stellar '\n",
      "                                           'remnants, interstellar gas, dust, '\n",
      "                                           'and dark matter. The Milky Way is '\n",
      "                                           'the galaxy that contains our Solar '\n",
      "                                           'System.',\n",
      "                                'id': 3,\n",
      "                                'title': 'Galaxies'}},\n",
      "                   {'_id': '30u8ApMB770u3lhz-QPY',\n",
      "                    '_source': {'content': 'The Big Bang Theory is the leading '\n",
      "                                           'explanation about how the universe '\n",
      "                                           'began. It suggests that the '\n",
      "                                           'universe was once in an extremely '\n",
      "                                           'hot and dense state and has been '\n",
      "                                           'expanding ever since.',\n",
      "                                'id': 4,\n",
      "                                'title': 'The Big Bang Theory'}},\n",
      "                   {'_id': '4Eu8ApMB770u3lhz-QPY',\n",
      "                    '_source': {'content': 'Exoplanets, or extrasolar planets, '\n",
      "                                           'are planets that exist outside our '\n",
      "                                           'solar system. They vary greatly in '\n",
      "                                           'size and composition and are often '\n",
      "                                           'found using methods like the '\n",
      "                                           'transit method and radial '\n",
      "                                           'velocity.',\n",
      "                                'id': 5,\n",
      "                                'title': 'Exoplanets'}},\n",
      "                   {'_id': '4Uu8ApMB770u3lhz-QPY',\n",
      "                    '_source': {'content': 'Stars are born from clouds of gas '\n",
      "                                           'and dust in space. They undergo a '\n",
      "                                           'life cycle that includes stages '\n",
      "                                           'such as main sequence, red giant, '\n",
      "                                           'and, ultimately, either a '\n",
      "                                           'supernova explosion or a gentle '\n",
      "                                           'fade into a white dwarf.',\n",
      "                                'id': 6,\n",
      "                                'title': 'The Life Cycle of Stars'}},\n",
      "                   {'_id': '4ku8ApMB770u3lhz-QPY',\n",
      "                    '_source': {'content': 'Astrobiology is the study of the '\n",
      "                                           'origin, evolution, distribution, '\n",
      "                                           'and future of life in the '\n",
      "                                           'universe. It combines elements of '\n",
      "                                           'biology, chemistry, and planetary '\n",
      "                                           'science.',\n",
      "                                'id': 7,\n",
      "                                'title': 'Astrobiology'}},\n",
      "                   {'_id': '40u8ApMB770u3lhz-QPY',\n",
      "                    '_source': {'content': 'Dark matter is a type of matter '\n",
      "                                           'that does not emit light or '\n",
      "                                           'energy. It cannot be observed '\n",
      "                                           'directly but is believed to make '\n",
      "                                           \"up about 27% of the universe's \"\n",
      "                                           'total mass and energy.',\n",
      "                                'id': 8,\n",
      "                                'title': 'Dark Matter'}},\n",
      "                   {'_id': '5Eu8ApMB770u3lhz-QPY',\n",
      "                    '_source': {'content': 'The universe has been expanding '\n",
      "                                           'since the Big Bang. Observations '\n",
      "                                           'of distant galaxies show that they '\n",
      "                                           'are moving away from us, which '\n",
      "                                           'supports the idea of an expanding '\n",
      "                                           'universe.',\n",
      "                                'id': 9,\n",
      "                                'title': 'The Expanding Universe'}},\n",
      "                   {'_id': '5Uu8ApMB770u3lhz-QPY',\n",
      "                    '_source': {'content': 'Space exploration involves the use '\n",
      "                                           'of space technology to explore '\n",
      "                                           'outer space. It includes missions '\n",
      "                                           'to planets, moons, and other '\n",
      "                                           'celestial bodies, aiming to '\n",
      "                                           'discover more about the universe.',\n",
      "                                'id': 10,\n",
      "                                'title': 'Space Exploration'}}]}}\n"
     ]
    }
   ],
   "source": [
    "response = es.search(\n",
    "    index=index_name,\n",
    "    body={\n",
    "        \"query\": {\n",
    "            \"match_all\": {}\n",
    "        }\n",
    "    },\n",
    "    filter_path=\"hits.hits._id,hits.hits._source\" # Keep only _id and _source fields\n",
    ")\n",
    "pprint(response.body)"
   ]
  },
  {
   "cell_type": "markdown",
   "metadata": {},
   "source": [
    "### 3.2 Exclusive filtering"
   ]
  },
  {
   "cell_type": "code",
   "execution_count": null,
   "metadata": {},
   "outputs": [
    {
     "name": "stdout",
     "output_type": "stream",
     "text": [
      "{'_shards': {'failed': 0, 'skipped': 0, 'successful': 1, 'total': 1},\n",
      " 'timed_out': False,\n",
      " 'took': 2}\n"
     ]
    }
   ],
   "source": [
    "response = es.search(\n",
    "    index=index_name,\n",
    "    body={\n",
    "        \"query\": {\n",
    "            \"match_all\": {}\n",
    "        }\n",
    "    },\n",
    "    filter_path=\"-hits\" # Remove the hits key\n",
    ")\n",
    "pprint(response.body)"
   ]
  },
  {
   "cell_type": "markdown",
   "metadata": {},
   "source": [
    "### 3.3. Combined filtering"
   ]
  },
  {
   "cell_type": "code",
   "execution_count": 28,
   "metadata": {},
   "outputs": [
    {
     "name": "stdout",
     "output_type": "stream",
     "text": [
      "{'hits': {'hits': [{'_id': '3Eu8ApMB770u3lhz-QPW'},\n",
      "                   {'_id': '3Uu8ApMB770u3lhz-QPX'},\n",
      "                   {'_id': '3ku8ApMB770u3lhz-QPX'},\n",
      "                   {'_id': '30u8ApMB770u3lhz-QPY'},\n",
      "                   {'_id': '4Eu8ApMB770u3lhz-QPY'},\n",
      "                   {'_id': '4Uu8ApMB770u3lhz-QPY'},\n",
      "                   {'_id': '4ku8ApMB770u3lhz-QPY'},\n",
      "                   {'_id': '40u8ApMB770u3lhz-QPY'},\n",
      "                   {'_id': '5Eu8ApMB770u3lhz-QPY'},\n",
      "                   {'_id': '5Uu8ApMB770u3lhz-QPY'}]}}\n"
     ]
    }
   ],
   "source": [
    "response = es.search(\n",
    "    index=index_name,\n",
    "    body={\n",
    "        \"query\": {\n",
    "            \"match_all\": {}\n",
    "        }\n",
    "    },\n",
    "    filter_path=\"hits.hits._id,-hits.hits._score\"\n",
    ")\n",
    "pprint(response.body)"
   ]
  },
  {
   "cell_type": "markdown",
   "metadata": {},
   "source": [
    "## 4. Flat settings"
   ]
  },
  {
   "cell_type": "code",
   "execution_count": 30,
   "metadata": {},
   "outputs": [
    {
     "name": "stdout",
     "output_type": "stream",
     "text": [
      "{'my_index': {'settings': {'index': {'creation_date': '1730917759224',\n",
      "                                     'number_of_replicas': '1',\n",
      "                                     'number_of_shards': '1',\n",
      "                                     'provided_name': 'my_index',\n",
      "                                     'routing': {'allocation': {'include': {'_tier_preference': 'data_content'}}},\n",
      "                                     'uuid': 'fUD9O2YHS7SQVN_M0-0hiQ',\n",
      "                                     'version': {'created': '8512000'}}}}}\n"
     ]
    }
   ],
   "source": [
    "response = es.indices.get_settings(\n",
    "    index=index_name,\n",
    ")\n",
    "pprint(response.body)"
   ]
  },
  {
   "cell_type": "code",
   "execution_count": 29,
   "metadata": {},
   "outputs": [
    {
     "name": "stdout",
     "output_type": "stream",
     "text": [
      "{'my_index': {'settings': {'index.creation_date': '1730917759224',\n",
      "                           'index.number_of_replicas': '1',\n",
      "                           'index.number_of_shards': '1',\n",
      "                           'index.provided_name': 'my_index',\n",
      "                           'index.routing.allocation.include._tier_preference': 'data_content',\n",
      "                           'index.uuid': 'fUD9O2YHS7SQVN_M0-0hiQ',\n",
      "                           'index.version.created': '8512000'}}}\n"
     ]
    }
   ],
   "source": [
    "response = es.indices.get_settings(\n",
    "    index=index_name,\n",
    "    flat_settings=True,\n",
    ")\n",
    "pprint(response.body)"
   ]
  }
 ],
 "metadata": {
  "kernelspec": {
   "display_name": "elastic_search",
   "language": "python",
   "name": "python3"
  },
  "language_info": {
   "codemirror_mode": {
    "name": "ipython",
    "version": 3
   },
   "file_extension": ".py",
   "mimetype": "text/x-python",
   "name": "python",
   "nbconvert_exporter": "python",
   "pygments_lexer": "ipython3",
   "version": "3.11.9"
  }
 },
 "nbformat": 4,
 "nbformat_minor": 2
}
