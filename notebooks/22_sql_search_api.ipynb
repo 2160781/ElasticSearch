{
 "cells": [
  {
   "cell_type": "markdown",
   "metadata": {},
   "source": [
    "## Documentation\n",
    "\n",
    "To read more about the SQL search API, checkout the docs [here](https://www.elastic.co/guide/en/elasticsearch/reference/current/sql-search-api.html).\n",
    "\n",
    "![sql_search_api_docs](../images/sql_search_api_docs.png)"
   ]
  },
  {
   "cell_type": "markdown",
   "metadata": {},
   "source": [
    "## Connect to ElasticSearch"
   ]
  },
  {
   "cell_type": "code",
   "execution_count": 1,
   "metadata": {},
   "outputs": [
    {
     "name": "stdout",
     "output_type": "stream",
     "text": [
      "Connected to Elasticsearch!\n",
      "{'cluster_name': 'docker-cluster',\n",
      " 'cluster_uuid': 'DlYG5m9gR3upn7qgaYyAJA',\n",
      " 'name': '3d37442d2591',\n",
      " 'tagline': 'You Know, for Search',\n",
      " 'version': {'build_date': '2024-08-05T10:05:34.233336849Z',\n",
      "             'build_flavor': 'default',\n",
      "             'build_hash': '1a77947f34deddb41af25e6f0ddb8e830159c179',\n",
      "             'build_snapshot': False,\n",
      "             'build_type': 'docker',\n",
      "             'lucene_version': '9.11.1',\n",
      "             'minimum_index_compatibility_version': '7.0.0',\n",
      "             'minimum_wire_compatibility_version': '7.17.0',\n",
      "             'number': '8.15.0'}}\n"
     ]
    }
   ],
   "source": [
    "from pprint import pprint\n",
    "from elasticsearch import Elasticsearch\n",
    "\n",
    "es = Elasticsearch('http://localhost:9200')\n",
    "client_info = es.info()\n",
    "print('Connected to Elasticsearch!')\n",
    "pprint(client_info.body)"
   ]
  },
  {
   "cell_type": "markdown",
   "metadata": {},
   "source": [
    "## Index data"
   ]
  },
  {
   "cell_type": "code",
   "execution_count": 2,
   "metadata": {},
   "outputs": [
    {
     "name": "stdout",
     "output_type": "stream",
     "text": [
      "{'errors': False,\n",
      " 'items': [{'index': {'_id': 'GvM8-5IBnKNyaYqDh2nk',\n",
      "                      '_index': 'my_index',\n",
      "                      '_primary_term': 1,\n",
      "                      '_seq_no': 0,\n",
      "                      '_shards': {'failed': 0, 'successful': 1, 'total': 2},\n",
      "                      '_version': 1,\n",
      "                      'result': 'created',\n",
      "                      'status': 201}},\n",
      "           {'index': {'_id': 'G_M8-5IBnKNyaYqDh2nl',\n",
      "                      '_index': 'my_index',\n",
      "                      '_primary_term': 1,\n",
      "                      '_seq_no': 1,\n",
      "                      '_shards': {'failed': 0, 'successful': 1, 'total': 2},\n",
      "                      '_version': 1,\n",
      "                      'result': 'created',\n",
      "                      'status': 201}},\n",
      "           {'index': {'_id': 'HPM8-5IBnKNyaYqDh2nl',\n",
      "                      '_index': 'my_index',\n",
      "                      '_primary_term': 1,\n",
      "                      '_seq_no': 2,\n",
      "                      '_shards': {'failed': 0, 'successful': 1, 'total': 2},\n",
      "                      '_version': 1,\n",
      "                      'result': 'created',\n",
      "                      'status': 201}},\n",
      "           {'index': {'_id': 'HfM8-5IBnKNyaYqDh2nl',\n",
      "                      '_index': 'my_index',\n",
      "                      '_primary_term': 1,\n",
      "                      '_seq_no': 3,\n",
      "                      '_shards': {'failed': 0, 'successful': 1, 'total': 2},\n",
      "                      '_version': 1,\n",
      "                      'result': 'created',\n",
      "                      'status': 201}},\n",
      "           {'index': {'_id': 'HvM8-5IBnKNyaYqDh2nl',\n",
      "                      '_index': 'my_index',\n",
      "                      '_primary_term': 1,\n",
      "                      '_seq_no': 4,\n",
      "                      '_shards': {'failed': 0, 'successful': 1, 'total': 2},\n",
      "                      '_version': 1,\n",
      "                      'result': 'created',\n",
      "                      'status': 201}},\n",
      "           {'index': {'_id': 'H_M8-5IBnKNyaYqDh2nl',\n",
      "                      '_index': 'my_index',\n",
      "                      '_primary_term': 1,\n",
      "                      '_seq_no': 5,\n",
      "                      '_shards': {'failed': 0, 'successful': 1, 'total': 2},\n",
      "                      '_version': 1,\n",
      "                      'result': 'created',\n",
      "                      'status': 201}},\n",
      "           {'index': {'_id': 'IPM8-5IBnKNyaYqDh2nm',\n",
      "                      '_index': 'my_index',\n",
      "                      '_primary_term': 1,\n",
      "                      '_seq_no': 6,\n",
      "                      '_shards': {'failed': 0, 'successful': 1, 'total': 2},\n",
      "                      '_version': 1,\n",
      "                      'result': 'created',\n",
      "                      'status': 201}},\n",
      "           {'index': {'_id': 'IfM8-5IBnKNyaYqDh2nm',\n",
      "                      '_index': 'my_index',\n",
      "                      '_primary_term': 1,\n",
      "                      '_seq_no': 7,\n",
      "                      '_shards': {'failed': 0, 'successful': 1, 'total': 2},\n",
      "                      '_version': 1,\n",
      "                      'result': 'created',\n",
      "                      'status': 201}},\n",
      "           {'index': {'_id': 'IvM8-5IBnKNyaYqDh2nm',\n",
      "                      '_index': 'my_index',\n",
      "                      '_primary_term': 1,\n",
      "                      '_seq_no': 8,\n",
      "                      '_shards': {'failed': 0, 'successful': 1, 'total': 2},\n",
      "                      '_version': 1,\n",
      "                      'result': 'created',\n",
      "                      'status': 201}},\n",
      "           {'index': {'_id': 'I_M8-5IBnKNyaYqDh2nm',\n",
      "                      '_index': 'my_index',\n",
      "                      '_primary_term': 1,\n",
      "                      '_seq_no': 9,\n",
      "                      '_shards': {'failed': 0, 'successful': 1, 'total': 2},\n",
      "                      '_version': 1,\n",
      "                      'result': 'created',\n",
      "                      'status': 201}}],\n",
      " 'took': 3772727}\n"
     ]
    }
   ],
   "source": [
    "import json\n",
    "\n",
    "from pprint import pprint\n",
    "\n",
    "es.indices.delete(index='my_index', ignore_unavailable=True)\n",
    "es.indices.create(index='my_index')\n",
    "\n",
    "operations = []\n",
    "clothes_documents = json.load(open(\"../data/astronomy.json\"))\n",
    "\n",
    "for document in clothes_documents:\n",
    "    operations.append({'index': {'_index': 'my_index'}})\n",
    "    operations.append(document)\n",
    "\n",
    "response = es.bulk(operations=operations)\n",
    "pprint(response.body)"
   ]
  },
  {
   "cell_type": "code",
   "execution_count": 3,
   "metadata": {},
   "outputs": [
    {
     "name": "stdout",
     "output_type": "stream",
     "text": [
      "Number of documents in index: 10\n"
     ]
    }
   ],
   "source": [
    "count = es.count(index='my_index')\n",
    "print('Number of documents in index:', count.body['count'])"
   ]
  },
  {
   "cell_type": "markdown",
   "metadata": {},
   "source": [
    "## SQL search API"
   ]
  },
  {
   "cell_type": "markdown",
   "metadata": {},
   "source": [
    "### 1. Simple select query"
   ]
  },
  {
   "cell_type": "code",
   "execution_count": 7,
   "metadata": {},
   "outputs": [
    {
     "name": "stdout",
     "output_type": "stream",
     "text": [
      "['The Solar System']\n",
      "['Black Holes']\n",
      "['Galaxies']\n",
      "['The Big Bang Theory']\n",
      "['Exoplanets']\n"
     ]
    }
   ],
   "source": [
    "query = {\n",
    "    \"query\": \"SELECT title FROM my_index ORDER BY id LIMIT 5\"\n",
    "}\n",
    "\n",
    "response = es.sql.query(body=query)\n",
    "for row in response['rows']:\n",
    "    print(row)"
   ]
  },
  {
   "cell_type": "markdown",
   "metadata": {},
   "source": [
    "### 2. Change response format"
   ]
  },
  {
   "cell_type": "code",
   "execution_count": 9,
   "metadata": {},
   "outputs": [
    {
     "name": "stdout",
     "output_type": "stream",
     "text": [
      "{'columns': [{'name': 'content', 'type': 'text'}, {'name': 'id', 'type': 'long'}, {'name': 'title', 'type': 'text'}], 'rows': [['The Solar System consists of the Sun and the objects that orbit it, including eight planets, their moons, dwarf planets, and countless small bodies like asteroids and comets.', 1, 'The Solar System'], ['A black hole is a region of space where the gravitational pull is so strong that nothing, not even light, can escape from it. They are formed when massive stars collapse under their own gravity.', 2, 'Black Holes'], ['Galaxies are vast systems that consist of stars, stellar remnants, interstellar gas, dust, and dark matter. The Milky Way is the galaxy that contains our Solar System.', 3, 'Galaxies'], ['The Big Bang Theory is the leading explanation about how the universe began. It suggests that the universe was once in an extremely hot and dense state and has been expanding ever since.', 4, 'The Big Bang Theory'], ['Exoplanets, or extrasolar planets, are planets that exist outside our solar system. They vary greatly in size and composition and are often found using methods like the transit method and radial velocity.', 5, 'Exoplanets'], ['Stars are born from clouds of gas and dust in space. They undergo a life cycle that includes stages such as main sequence, red giant, and, ultimately, either a supernova explosion or a gentle fade into a white dwarf.', 6, 'The Life Cycle of Stars'], ['Astrobiology is the study of the origin, evolution, distribution, and future of life in the universe. It combines elements of biology, chemistry, and planetary science.', 7, 'Astrobiology'], [\"Dark matter is a type of matter that does not emit light or energy. It cannot be observed directly but is believed to make up about 27% of the universe's total mass and energy.\", 8, 'Dark Matter'], ['The universe has been expanding since the Big Bang. Observations of distant galaxies show that they are moving away from us, which supports the idea of an expanding universe.', 9, 'The Expanding Universe'], ['Space exploration involves the use of space technology to explore outer space. It includes missions to planets, moons, and other celestial bodies, aiming to discover more about the universe.', 10, 'Space Exploration']]}\n"
     ]
    }
   ],
   "source": [
    "query = {\n",
    "    \"query\": \"SELECT * FROM my_index\",\n",
    "}\n",
    "\n",
    "response = es.sql.query(body=query, format='json')\n",
    "print(response)"
   ]
  },
  {
   "cell_type": "code",
   "execution_count": 14,
   "metadata": {},
   "outputs": [
    {
     "name": "stdout",
     "output_type": "stream",
     "text": [
      "                                                                                                        content                                                                                                         |      id       |         title         \n",
      "------------------------------------------------------------------------------------------------------------------------------------------------------------------------------------------------------------------------+---------------+-----------------------\n",
      "The Solar System consists of the Sun and the objects that orbit it, including eight planets, their moons, dwarf planets, and countless small bodies like asteroids and comets.                                          |1              |The Solar System       \n",
      "A black hole is a region of space where the gravitational pull is so strong that nothing, not even light, can escape from it. They are formed when massive stars collapse under their own gravity.                      |2              |Black Holes            \n",
      "Galaxies are vast systems that consist of stars, stellar remnants, interstellar gas, dust, and dark matter. The Milky Way is the galaxy that contains our Solar System.                                                 |3              |Galaxies               \n",
      "The Big Bang Theory is the leading explanation about how the universe began. It suggests that the universe was once in an extremely hot and dense state and has been expanding ever since.                              |4              |The Big Bang Theory    \n",
      "Exoplanets, or extrasolar planets, are planets that exist outside our solar system. They vary greatly in size and composition and are often found using methods like the transit method and radial velocity.            |5              |Exoplanets             \n",
      "Stars are born from clouds of gas and dust in space. They undergo a life cycle that includes stages such as main sequence, red giant, and, ultimately, either a supernova explosion or a gentle fade into a white dwarf.|6              |The Life Cycle of Stars\n",
      "Astrobiology is the study of the origin, evolution, distribution, and future of life in the universe. It combines elements of biology, chemistry, and planetary science.                                                |7              |Astrobiology           \n",
      "Dark matter is a type of matter that does not emit light or energy. It cannot be observed directly but is believed to make up about 27% of the universe's total mass and energy.                                        |8              |Dark Matter            \n",
      "The universe has been expanding since the Big Bang. Observations of distant galaxies show that they are moving away from us, which supports the idea of an expanding universe.                                          |9              |The Expanding Universe \n",
      "Space exploration involves the use of space technology to explore outer space. It includes missions to planets, moons, and other celestial bodies, aiming to discover more about the universe.                          |10             |Space Exploration      \n",
      "\n"
     ]
    }
   ],
   "source": [
    "query = {\n",
    "    \"query\": \"SELECT * FROM my_index\",\n",
    "}\n",
    "\n",
    "response = es.sql.query(body=query, format='txt')\n",
    "print(response)"
   ]
  },
  {
   "cell_type": "code",
   "execution_count": 18,
   "metadata": {},
   "outputs": [
    {
     "name": "stdout",
     "output_type": "stream",
     "text": [
      "\u001b[0;31mSignature:\u001b[0m\n",
      "\u001b[0mes\u001b[0m\u001b[0;34m.\u001b[0m\u001b[0msql\u001b[0m\u001b[0;34m.\u001b[0m\u001b[0mquery\u001b[0m\u001b[0;34m(\u001b[0m\u001b[0;34m\u001b[0m\n",
      "\u001b[0;34m\u001b[0m    \u001b[0;34m*\u001b[0m\u001b[0;34m,\u001b[0m\u001b[0;34m\u001b[0m\n",
      "\u001b[0;34m\u001b[0m    \u001b[0mcatalog\u001b[0m\u001b[0;34m:\u001b[0m \u001b[0mOptional\u001b[0m\u001b[0;34m[\u001b[0m\u001b[0mstr\u001b[0m\u001b[0;34m]\u001b[0m \u001b[0;34m=\u001b[0m \u001b[0;32mNone\u001b[0m\u001b[0;34m,\u001b[0m\u001b[0;34m\u001b[0m\n",
      "\u001b[0;34m\u001b[0m    \u001b[0mcolumnar\u001b[0m\u001b[0;34m:\u001b[0m \u001b[0mOptional\u001b[0m\u001b[0;34m[\u001b[0m\u001b[0mbool\u001b[0m\u001b[0;34m]\u001b[0m \u001b[0;34m=\u001b[0m \u001b[0;32mNone\u001b[0m\u001b[0;34m,\u001b[0m\u001b[0;34m\u001b[0m\n",
      "\u001b[0;34m\u001b[0m    \u001b[0mcursor\u001b[0m\u001b[0;34m:\u001b[0m \u001b[0mOptional\u001b[0m\u001b[0;34m[\u001b[0m\u001b[0mstr\u001b[0m\u001b[0;34m]\u001b[0m \u001b[0;34m=\u001b[0m \u001b[0;32mNone\u001b[0m\u001b[0;34m,\u001b[0m\u001b[0;34m\u001b[0m\n",
      "\u001b[0;34m\u001b[0m    \u001b[0merror_trace\u001b[0m\u001b[0;34m:\u001b[0m \u001b[0mOptional\u001b[0m\u001b[0;34m[\u001b[0m\u001b[0mbool\u001b[0m\u001b[0;34m]\u001b[0m \u001b[0;34m=\u001b[0m \u001b[0;32mNone\u001b[0m\u001b[0;34m,\u001b[0m\u001b[0;34m\u001b[0m\n",
      "\u001b[0;34m\u001b[0m    \u001b[0mfetch_size\u001b[0m\u001b[0;34m:\u001b[0m \u001b[0mOptional\u001b[0m\u001b[0;34m[\u001b[0m\u001b[0mint\u001b[0m\u001b[0;34m]\u001b[0m \u001b[0;34m=\u001b[0m \u001b[0;32mNone\u001b[0m\u001b[0;34m,\u001b[0m\u001b[0;34m\u001b[0m\n",
      "\u001b[0;34m\u001b[0m    \u001b[0mfield_multi_value_leniency\u001b[0m\u001b[0;34m:\u001b[0m \u001b[0mOptional\u001b[0m\u001b[0;34m[\u001b[0m\u001b[0mbool\u001b[0m\u001b[0;34m]\u001b[0m \u001b[0;34m=\u001b[0m \u001b[0;32mNone\u001b[0m\u001b[0;34m,\u001b[0m\u001b[0;34m\u001b[0m\n",
      "\u001b[0;34m\u001b[0m    \u001b[0mfilter\u001b[0m\u001b[0;34m:\u001b[0m \u001b[0mOptional\u001b[0m\u001b[0;34m[\u001b[0m\u001b[0mMapping\u001b[0m\u001b[0;34m[\u001b[0m\u001b[0mstr\u001b[0m\u001b[0;34m,\u001b[0m \u001b[0mAny\u001b[0m\u001b[0;34m]\u001b[0m\u001b[0;34m]\u001b[0m \u001b[0;34m=\u001b[0m \u001b[0;32mNone\u001b[0m\u001b[0;34m,\u001b[0m\u001b[0;34m\u001b[0m\n",
      "\u001b[0;34m\u001b[0m    \u001b[0mfilter_path\u001b[0m\u001b[0;34m:\u001b[0m \u001b[0mUnion\u001b[0m\u001b[0;34m[\u001b[0m\u001b[0mstr\u001b[0m\u001b[0;34m,\u001b[0m \u001b[0mSequence\u001b[0m\u001b[0;34m[\u001b[0m\u001b[0mstr\u001b[0m\u001b[0;34m]\u001b[0m\u001b[0;34m,\u001b[0m \u001b[0mNoneType\u001b[0m\u001b[0;34m]\u001b[0m \u001b[0;34m=\u001b[0m \u001b[0;32mNone\u001b[0m\u001b[0;34m,\u001b[0m\u001b[0;34m\u001b[0m\n",
      "\u001b[0;34m\u001b[0m    \u001b[0mformat\u001b[0m\u001b[0;34m:\u001b[0m \u001b[0mOptional\u001b[0m\u001b[0;34m[\u001b[0m\u001b[0mstr\u001b[0m\u001b[0;34m]\u001b[0m \u001b[0;34m=\u001b[0m \u001b[0;32mNone\u001b[0m\u001b[0;34m,\u001b[0m\u001b[0;34m\u001b[0m\n",
      "\u001b[0;34m\u001b[0m    \u001b[0mhuman\u001b[0m\u001b[0;34m:\u001b[0m \u001b[0mOptional\u001b[0m\u001b[0;34m[\u001b[0m\u001b[0mbool\u001b[0m\u001b[0;34m]\u001b[0m \u001b[0;34m=\u001b[0m \u001b[0;32mNone\u001b[0m\u001b[0;34m,\u001b[0m\u001b[0;34m\u001b[0m\n",
      "\u001b[0;34m\u001b[0m    \u001b[0mindex_using_frozen\u001b[0m\u001b[0;34m:\u001b[0m \u001b[0mOptional\u001b[0m\u001b[0;34m[\u001b[0m\u001b[0mbool\u001b[0m\u001b[0;34m]\u001b[0m \u001b[0;34m=\u001b[0m \u001b[0;32mNone\u001b[0m\u001b[0;34m,\u001b[0m\u001b[0;34m\u001b[0m\n",
      "\u001b[0;34m\u001b[0m    \u001b[0mkeep_alive\u001b[0m\u001b[0;34m:\u001b[0m \u001b[0mUnion\u001b[0m\u001b[0;34m[\u001b[0m\u001b[0mstr\u001b[0m\u001b[0;34m,\u001b[0m \u001b[0mLiteral\u001b[0m\u001b[0;34m[\u001b[0m\u001b[0;34m-\u001b[0m\u001b[0;36m1\u001b[0m\u001b[0;34m]\u001b[0m\u001b[0;34m,\u001b[0m \u001b[0mLiteral\u001b[0m\u001b[0;34m[\u001b[0m\u001b[0;36m0\u001b[0m\u001b[0;34m]\u001b[0m\u001b[0;34m,\u001b[0m \u001b[0mNoneType\u001b[0m\u001b[0;34m]\u001b[0m \u001b[0;34m=\u001b[0m \u001b[0;32mNone\u001b[0m\u001b[0;34m,\u001b[0m\u001b[0;34m\u001b[0m\n",
      "\u001b[0;34m\u001b[0m    \u001b[0mkeep_on_completion\u001b[0m\u001b[0;34m:\u001b[0m \u001b[0mOptional\u001b[0m\u001b[0;34m[\u001b[0m\u001b[0mbool\u001b[0m\u001b[0;34m]\u001b[0m \u001b[0;34m=\u001b[0m \u001b[0;32mNone\u001b[0m\u001b[0;34m,\u001b[0m\u001b[0;34m\u001b[0m\n",
      "\u001b[0;34m\u001b[0m    \u001b[0mpage_timeout\u001b[0m\u001b[0;34m:\u001b[0m \u001b[0mUnion\u001b[0m\u001b[0;34m[\u001b[0m\u001b[0mstr\u001b[0m\u001b[0;34m,\u001b[0m \u001b[0mLiteral\u001b[0m\u001b[0;34m[\u001b[0m\u001b[0;34m-\u001b[0m\u001b[0;36m1\u001b[0m\u001b[0;34m]\u001b[0m\u001b[0;34m,\u001b[0m \u001b[0mLiteral\u001b[0m\u001b[0;34m[\u001b[0m\u001b[0;36m0\u001b[0m\u001b[0;34m]\u001b[0m\u001b[0;34m,\u001b[0m \u001b[0mNoneType\u001b[0m\u001b[0;34m]\u001b[0m \u001b[0;34m=\u001b[0m \u001b[0;32mNone\u001b[0m\u001b[0;34m,\u001b[0m\u001b[0;34m\u001b[0m\n",
      "\u001b[0;34m\u001b[0m    \u001b[0mparams\u001b[0m\u001b[0;34m:\u001b[0m \u001b[0mOptional\u001b[0m\u001b[0;34m[\u001b[0m\u001b[0mMapping\u001b[0m\u001b[0;34m[\u001b[0m\u001b[0mstr\u001b[0m\u001b[0;34m,\u001b[0m \u001b[0mAny\u001b[0m\u001b[0;34m]\u001b[0m\u001b[0;34m]\u001b[0m \u001b[0;34m=\u001b[0m \u001b[0;32mNone\u001b[0m\u001b[0;34m,\u001b[0m\u001b[0;34m\u001b[0m\n",
      "\u001b[0;34m\u001b[0m    \u001b[0mpretty\u001b[0m\u001b[0;34m:\u001b[0m \u001b[0mOptional\u001b[0m\u001b[0;34m[\u001b[0m\u001b[0mbool\u001b[0m\u001b[0;34m]\u001b[0m \u001b[0;34m=\u001b[0m \u001b[0;32mNone\u001b[0m\u001b[0;34m,\u001b[0m\u001b[0;34m\u001b[0m\n",
      "\u001b[0;34m\u001b[0m    \u001b[0mquery\u001b[0m\u001b[0;34m:\u001b[0m \u001b[0mOptional\u001b[0m\u001b[0;34m[\u001b[0m\u001b[0mstr\u001b[0m\u001b[0;34m]\u001b[0m \u001b[0;34m=\u001b[0m \u001b[0;32mNone\u001b[0m\u001b[0;34m,\u001b[0m\u001b[0;34m\u001b[0m\n",
      "\u001b[0;34m\u001b[0m    \u001b[0mrequest_timeout\u001b[0m\u001b[0;34m:\u001b[0m \u001b[0mUnion\u001b[0m\u001b[0;34m[\u001b[0m\u001b[0mstr\u001b[0m\u001b[0;34m,\u001b[0m \u001b[0mLiteral\u001b[0m\u001b[0;34m[\u001b[0m\u001b[0;34m-\u001b[0m\u001b[0;36m1\u001b[0m\u001b[0;34m]\u001b[0m\u001b[0;34m,\u001b[0m \u001b[0mLiteral\u001b[0m\u001b[0;34m[\u001b[0m\u001b[0;36m0\u001b[0m\u001b[0;34m]\u001b[0m\u001b[0;34m,\u001b[0m \u001b[0mNoneType\u001b[0m\u001b[0;34m]\u001b[0m \u001b[0;34m=\u001b[0m \u001b[0;32mNone\u001b[0m\u001b[0;34m,\u001b[0m\u001b[0;34m\u001b[0m\n",
      "\u001b[0;34m\u001b[0m    \u001b[0mruntime_mappings\u001b[0m\u001b[0;34m:\u001b[0m \u001b[0mOptional\u001b[0m\u001b[0;34m[\u001b[0m\u001b[0mMapping\u001b[0m\u001b[0;34m[\u001b[0m\u001b[0mstr\u001b[0m\u001b[0;34m,\u001b[0m \u001b[0mMapping\u001b[0m\u001b[0;34m[\u001b[0m\u001b[0mstr\u001b[0m\u001b[0;34m,\u001b[0m \u001b[0mAny\u001b[0m\u001b[0;34m]\u001b[0m\u001b[0;34m]\u001b[0m\u001b[0;34m]\u001b[0m \u001b[0;34m=\u001b[0m \u001b[0;32mNone\u001b[0m\u001b[0;34m,\u001b[0m\u001b[0;34m\u001b[0m\n",
      "\u001b[0;34m\u001b[0m    \u001b[0mtime_zone\u001b[0m\u001b[0;34m:\u001b[0m \u001b[0mOptional\u001b[0m\u001b[0;34m[\u001b[0m\u001b[0mstr\u001b[0m\u001b[0;34m]\u001b[0m \u001b[0;34m=\u001b[0m \u001b[0;32mNone\u001b[0m\u001b[0;34m,\u001b[0m\u001b[0;34m\u001b[0m\n",
      "\u001b[0;34m\u001b[0m    \u001b[0mwait_for_completion_timeout\u001b[0m\u001b[0;34m:\u001b[0m \u001b[0mUnion\u001b[0m\u001b[0;34m[\u001b[0m\u001b[0mstr\u001b[0m\u001b[0;34m,\u001b[0m \u001b[0mLiteral\u001b[0m\u001b[0;34m[\u001b[0m\u001b[0;34m-\u001b[0m\u001b[0;36m1\u001b[0m\u001b[0;34m]\u001b[0m\u001b[0;34m,\u001b[0m \u001b[0mLiteral\u001b[0m\u001b[0;34m[\u001b[0m\u001b[0;36m0\u001b[0m\u001b[0;34m]\u001b[0m\u001b[0;34m,\u001b[0m \u001b[0mNoneType\u001b[0m\u001b[0;34m]\u001b[0m \u001b[0;34m=\u001b[0m \u001b[0;32mNone\u001b[0m\u001b[0;34m,\u001b[0m\u001b[0;34m\u001b[0m\n",
      "\u001b[0;34m\u001b[0m    \u001b[0mbody\u001b[0m\u001b[0;34m:\u001b[0m \u001b[0mOptional\u001b[0m\u001b[0;34m[\u001b[0m\u001b[0mDict\u001b[0m\u001b[0;34m[\u001b[0m\u001b[0mstr\u001b[0m\u001b[0;34m,\u001b[0m \u001b[0mAny\u001b[0m\u001b[0;34m]\u001b[0m\u001b[0;34m]\u001b[0m \u001b[0;34m=\u001b[0m \u001b[0;32mNone\u001b[0m\u001b[0;34m,\u001b[0m\u001b[0;34m\u001b[0m\n",
      "\u001b[0;34m\u001b[0m\u001b[0;34m)\u001b[0m \u001b[0;34m->\u001b[0m \u001b[0melastic_transport\u001b[0m\u001b[0;34m.\u001b[0m\u001b[0mObjectApiResponse\u001b[0m\u001b[0;34m[\u001b[0m\u001b[0mtyping\u001b[0m\u001b[0;34m.\u001b[0m\u001b[0mAny\u001b[0m\u001b[0;34m]\u001b[0m\u001b[0;34m\u001b[0m\u001b[0;34m\u001b[0m\u001b[0m\n",
      "\u001b[0;31mDocstring:\u001b[0m\n",
      "Executes a SQL request\n",
      "\n",
      "`<https://www.elastic.co/guide/en/elasticsearch/reference/8.15/sql-search-api.html>`_\n",
      "\n",
      ":param catalog: Default catalog (cluster) for queries. If unspecified, the queries\n",
      "    execute on the data in the local cluster only.\n",
      ":param columnar: If true, the results in a columnar fashion: one row represents\n",
      "    all the values of a certain column from the current page of results.\n",
      ":param cursor: Cursor used to retrieve a set of paginated results. If you specify\n",
      "    a cursor, the API only uses the `columnar` and `time_zone` request body parameters.\n",
      "    It ignores other request body parameters.\n",
      ":param fetch_size: The maximum number of rows (or entries) to return in one response\n",
      ":param field_multi_value_leniency: Throw an exception when encountering multiple\n",
      "    values for a field (default) or be lenient and return the first value from\n",
      "    the list (without any guarantees of what that will be - typically the first\n",
      "    in natural ascending order).\n",
      ":param filter: Elasticsearch query DSL for additional filtering.\n",
      ":param format: Format for the response.\n",
      ":param index_using_frozen: If true, the search can run on frozen indices. Defaults\n",
      "    to false.\n",
      ":param keep_alive: Retention period for an async or saved synchronous search.\n",
      ":param keep_on_completion: If true, Elasticsearch stores synchronous searches\n",
      "    if you also specify the wait_for_completion_timeout parameter. If false,\n",
      "    Elasticsearch only stores async searches that don’t finish before the wait_for_completion_timeout.\n",
      ":param page_timeout: The timeout before a pagination request fails.\n",
      ":param params: Values for parameters in the query.\n",
      ":param query: SQL query to run.\n",
      ":param request_timeout: The timeout before the request fails.\n",
      ":param runtime_mappings: Defines one or more runtime fields in the search request.\n",
      "    These fields take precedence over mapped fields with the same name.\n",
      ":param time_zone: ISO-8601 time zone ID for the search.\n",
      ":param wait_for_completion_timeout: Period to wait for complete results. Defaults\n",
      "    to no timeout, meaning the request waits for complete search results. If\n",
      "    the search doesn’t finish within this period, the search becomes async.\n",
      "\u001b[0;31mFile:\u001b[0m      ~/anaconda3/envs/elastic_search/lib/python3.11/site-packages/elasticsearch/_sync/client/sql.py\n",
      "\u001b[0;31mType:\u001b[0m      method"
     ]
    }
   ],
   "source": [
    "es.sql.query?"
   ]
  },
  {
   "cell_type": "code",
   "execution_count": 19,
   "metadata": {},
   "outputs": [
    {
     "name": "stdout",
     "output_type": "stream",
     "text": [
      "content,id,title\n",
      "\"The Solar System consists of the Sun and the objects that orbit it, including eight planets, their moons, dwarf planets, and countless small bodies like asteroids and comets.\",1,The Solar System\n",
      "\"A black hole is a region of space where the gravitational pull is so strong that nothing, not even light, can escape from it. They are formed when massive stars collapse under their own gravity.\",2,Black Holes\n",
      "\"Galaxies are vast systems that consist of stars, stellar remnants, interstellar gas, dust, and dark matter. The Milky Way is the galaxy that contains our Solar System.\",3,Galaxies\n",
      "The Big Bang Theory is the leading explanation about how the universe began. It suggests that the universe was once in an extremely hot and dense state and has been expanding ever since.,4,The Big Bang Theory\n",
      "\"Exoplanets, or extrasolar planets, are planets that exist outside our solar system. They vary greatly in size and composition and are often found using methods like the transit method and radial velocity.\",5,Exoplanets\n",
      "\"Stars are born from clouds of gas and dust in space. They undergo a life cycle that includes stages such as main sequence, red giant, and, ultimately, either a supernova explosion or a gentle fade into a white dwarf.\",6,The Life Cycle of Stars\n",
      "\"Astrobiology is the study of the origin, evolution, distribution, and future of life in the universe. It combines elements of biology, chemistry, and planetary science.\",7,Astrobiology\n",
      "Dark matter is a type of matter that does not emit light or energy. It cannot be observed directly but is believed to make up about 27% of the universe's total mass and energy.,8,Dark Matter\n",
      "\"The universe has been expanding since the Big Bang. Observations of distant galaxies show that they are moving away from us, which supports the idea of an expanding universe.\",9,The Expanding Universe\n",
      "\"Space exploration involves the use of space technology to explore outer space. It includes missions to planets, moons, and other celestial bodies, aiming to discover more about the universe.\",10,Space Exploration\n",
      "\n"
     ]
    }
   ],
   "source": [
    "query = {\n",
    "    \"query\": \"SELECT * FROM my_index\",\n",
    "}\n",
    "\n",
    "response = es.sql.query(body=query, format='csv')\n",
    "print(response)"
   ]
  },
  {
   "cell_type": "code",
   "execution_count": 20,
   "metadata": {},
   "outputs": [
    {
     "name": "stdout",
     "output_type": "stream",
     "text": [
      "content\tid\ttitle\n",
      "The Solar System consists of the Sun and the objects that orbit it, including eight planets, their moons, dwarf planets, and countless small bodies like asteroids and comets.\t1\tThe Solar System\n",
      "A black hole is a region of space where the gravitational pull is so strong that nothing, not even light, can escape from it. They are formed when massive stars collapse under their own gravity.\t2\tBlack Holes\n",
      "Galaxies are vast systems that consist of stars, stellar remnants, interstellar gas, dust, and dark matter. The Milky Way is the galaxy that contains our Solar System.\t3\tGalaxies\n",
      "The Big Bang Theory is the leading explanation about how the universe began. It suggests that the universe was once in an extremely hot and dense state and has been expanding ever since.\t4\tThe Big Bang Theory\n",
      "Exoplanets, or extrasolar planets, are planets that exist outside our solar system. They vary greatly in size and composition and are often found using methods like the transit method and radial velocity.\t5\tExoplanets\n",
      "Stars are born from clouds of gas and dust in space. They undergo a life cycle that includes stages such as main sequence, red giant, and, ultimately, either a supernova explosion or a gentle fade into a white dwarf.\t6\tThe Life Cycle of Stars\n",
      "Astrobiology is the study of the origin, evolution, distribution, and future of life in the universe. It combines elements of biology, chemistry, and planetary science.\t7\tAstrobiology\n",
      "Dark matter is a type of matter that does not emit light or energy. It cannot be observed directly but is believed to make up about 27% of the universe's total mass and energy.\t8\tDark Matter\n",
      "The universe has been expanding since the Big Bang. Observations of distant galaxies show that they are moving away from us, which supports the idea of an expanding universe.\t9\tThe Expanding Universe\n",
      "Space exploration involves the use of space technology to explore outer space. It includes missions to planets, moons, and other celestial bodies, aiming to discover more about the universe.\t10\tSpace Exploration\n",
      "\n"
     ]
    }
   ],
   "source": [
    "query = {\n",
    "    \"query\": \"SELECT * FROM my_index\",\n",
    "}\n",
    "\n",
    "response = es.sql.query(body=query, format='tsv')\n",
    "print(response)"
   ]
  },
  {
   "cell_type": "markdown",
   "metadata": {},
   "source": [
    "### 3. Filter results"
   ]
  },
  {
   "cell_type": "code",
   "execution_count": 29,
   "metadata": {},
   "outputs": [
    {
     "name": "stdout",
     "output_type": "stream",
     "text": [
      "{'columns': [{'name': 'content', 'type': 'text'}, {'name': 'id', 'type': 'long'}, {'name': 'title', 'type': 'text'}], 'rows': [['A black hole is a region of space where the gravitational pull is so strong that nothing, not even light, can escape from it. They are formed when massive stars collapse under their own gravity.', 2, 'Black Holes']]}\n"
     ]
    },
    {
     "name": "stderr",
     "output_type": "stream",
     "text": [
      "/tmp/ipykernel_12251/1825404533.py:5: DeprecationWarning: Received 'filter' via a specific parameter in the presence of a 'body' parameter, which is deprecated and will be removed in a future version. Instead, use only 'body' or only specific parameters.\n",
      "  response = es.sql.query(\n"
     ]
    }
   ],
   "source": [
    "query = {\n",
    "    \"query\": \"SELECT * FROM my_index\"\n",
    "}\n",
    "\n",
    "response = es.sql.query(\n",
    "    body=query,\n",
    "    filter={\n",
    "        \"term\": {\n",
    "            \"title.keyword\": \"Black Holes\"\n",
    "        }\n",
    "    },\n",
    ")\n",
    "print(response)"
   ]
  },
  {
   "cell_type": "markdown",
   "metadata": {},
   "source": [
    "### 4. Pagination"
   ]
  },
  {
   "cell_type": "code",
   "execution_count": 35,
   "metadata": {},
   "outputs": [
    {
     "name": "stderr",
     "output_type": "stream",
     "text": [
      "/tmp/ipykernel_12251/3586786142.py:5: DeprecationWarning: Received 'fetch_size' via a specific parameter in the presence of a 'body' parameter, which is deprecated and will be removed in a future version. Instead, use only 'body' or only specific parameters.\n",
      "  response = es.sql.query(\n"
     ]
    },
    {
     "data": {
      "text/plain": [
       "{'columns': [{'name': 'content', 'type': 'text'},\n",
       "  {'name': 'id', 'type': 'long'},\n",
       "  {'name': 'title', 'type': 'text'}],\n",
       " 'rows': [['Space exploration involves the use of space technology to explore outer space. It includes missions to planets, moons, and other celestial bodies, aiming to discover more about the universe.',\n",
       "   10,\n",
       "   'Space Exploration'],\n",
       "  ['The universe has been expanding since the Big Bang. Observations of distant galaxies show that they are moving away from us, which supports the idea of an expanding universe.',\n",
       "   9,\n",
       "   'The Expanding Universe'],\n",
       "  [\"Dark matter is a type of matter that does not emit light or energy. It cannot be observed directly but is believed to make up about 27% of the universe's total mass and energy.\",\n",
       "   8,\n",
       "   'Dark Matter'],\n",
       "  ['Astrobiology is the study of the origin, evolution, distribution, and future of life in the universe. It combines elements of biology, chemistry, and planetary science.',\n",
       "   7,\n",
       "   'Astrobiology'],\n",
       "  ['Stars are born from clouds of gas and dust in space. They undergo a life cycle that includes stages such as main sequence, red giant, and, ultimately, either a supernova explosion or a gentle fade into a white dwarf.',\n",
       "   6,\n",
       "   'The Life Cycle of Stars']],\n",
       " 'cursor': 'spCTBERGTAB0j8EKgkAQhmdWrejSzbcIIiK6Bkl1Kc2g8iKUu+7SqmEL2VsEvUn0frVadus/DD8zwz/fYADIgSCUeml1KgdgIbaZoDIKz1muiIigETKRnxUioCmzNP7s4RMNIESbslRq1MbS3TITjeYhSxVNld7UScRSQkmqzxaP293EVnINRRrRwnY2bpdv93P/tBn0+tvZbhXw0QXsYdgd7CY8X7lJvnDjoi+D6fFLAGDb1zhZL52152dTvpCRv/SCMfUA/wUCtOt/DWQ1HZqKFkpDM01ZP4nsQ/sbNgHeAAAA//8DAA=='}"
      ]
     },
     "execution_count": 35,
     "metadata": {},
     "output_type": "execute_result"
    }
   ],
   "source": [
    "query = {\n",
    "    \"query\": \"SELECT * FROM my_index ORDER BY id DESC\"\n",
    "}\n",
    "\n",
    "response = es.sql.query(\n",
    "    body=query,\n",
    "    format='json',\n",
    "    fetch_size=5,\n",
    ")\n",
    "response.body"
   ]
  },
  {
   "cell_type": "code",
   "execution_count": 36,
   "metadata": {},
   "outputs": [
    {
     "name": "stdout",
     "output_type": "stream",
     "text": [
      "{'rows': [['Exoplanets, or extrasolar planets, are planets that exist outside our solar system. They vary greatly in size and composition and are often found using methods like the transit method and radial velocity.', 5, 'Exoplanets'], ['The Big Bang Theory is the leading explanation about how the universe began. It suggests that the universe was once in an extremely hot and dense state and has been expanding ever since.', 4, 'The Big Bang Theory'], ['Galaxies are vast systems that consist of stars, stellar remnants, interstellar gas, dust, and dark matter. The Milky Way is the galaxy that contains our Solar System.', 3, 'Galaxies'], ['A black hole is a region of space where the gravitational pull is so strong that nothing, not even light, can escape from it. They are formed when massive stars collapse under their own gravity.', 2, 'Black Holes'], ['The Solar System consists of the Sun and the objects that orbit it, including eight planets, their moons, dwarf planets, and countless small bodies like asteroids and comets.', 1, 'The Solar System']], 'cursor': 'spCTBERGTAB0j88KgkAQxmdW+0OXbr5FEBHRNSiqS2oGlReh3HWXVg1dyN4i6E2i96s1s1tzGD5mhm9+H/qAHAhCWS9d3Y8CaCB2mKAyDPI0U0SE0AyYyHKFCGjKNImqO3yiAYRoUbZqVItSl55otI5pomii9KV2Ig0llKT6bfG43U1sx9dAJCEtrNnW6fHdYemdt8P+YLfYr30+voA1CnrD/ZRnayfOVk5UDKQ/P30JACzrGsUbe7ZxvXTOVzL0bNefUBfwnyFAp85rIKvp0FS0UBqaaco6JLKK9rdsAbwBAAD//wMA'}\n",
      "\n",
      "{'rows': []}\n",
      "\n"
     ]
    }
   ],
   "source": [
    "while 'cursor' in response.body:\n",
    "    response = es.sql.query(\n",
    "        format='json',\n",
    "        cursor=response.body['cursor'],\n",
    "    )\n",
    "    print(response.body)\n",
    "    print()"
   ]
  },
  {
   "cell_type": "markdown",
   "metadata": {},
   "source": [
    "### 5. Trasnlate API"
   ]
  },
  {
   "cell_type": "code",
   "execution_count": 42,
   "metadata": {},
   "outputs": [
    {
     "data": {
      "text/plain": [
       "{'size': 20,\n",
       " 'query': {'wildcard': {'content.keyword': {'wildcard': '*universe*',\n",
       "    'boost': 1.0}}},\n",
       " '_source': False,\n",
       " 'fields': [{'field': 'content'}, {'field': 'id'}, {'field': 'title'}],\n",
       " 'sort': [{'id': {'order': 'desc',\n",
       "    'missing': '_first',\n",
       "    'unmapped_type': 'long'}}],\n",
       " 'track_total_hits': -1}"
      ]
     },
     "execution_count": 42,
     "metadata": {},
     "output_type": "execute_result"
    }
   ],
   "source": [
    "translate_query = {\n",
    "    \"query\": \"SELECT * FROM my_index WHERE content LIKE '%universe%' ORDER BY id DESC LIMIT 20\"\n",
    "}\n",
    "\n",
    "translated_query = es.sql.translate(body=translate_query)\n",
    "translated_query.body"
   ]
  }
 ],
 "metadata": {
  "kernelspec": {
   "display_name": "elastic_search",
   "language": "python",
   "name": "python3"
  },
  "language_info": {
   "codemirror_mode": {
    "name": "ipython",
    "version": 3
   },
   "file_extension": ".py",
   "mimetype": "text/x-python",
   "name": "python",
   "nbconvert_exporter": "python",
   "pygments_lexer": "ipython3",
   "version": "3.11.9"
  }
 },
 "nbformat": 4,
 "nbformat_minor": 2
}
