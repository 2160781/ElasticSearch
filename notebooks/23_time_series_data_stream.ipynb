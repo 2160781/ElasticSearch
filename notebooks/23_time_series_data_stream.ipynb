{
 "cells": [
  {
   "cell_type": "markdown",
   "metadata": {},
   "source": [
    "## Documentation\n",
    "\n",
    "To read more about the Time Series Data Stream, checkout the docs [here](https://www.elastic.co/guide/en/elasticsearch/reference/current/tsds.html).\n",
    "\n",
    "![time_series_docs](../images/time_series_docs.png)"
   ]
  },
  {
   "cell_type": "markdown",
   "metadata": {},
   "source": [
    "## Connect to ElasticSearch"
   ]
  },
  {
   "cell_type": "code",
   "execution_count": 7,
   "metadata": {},
   "outputs": [
    {
     "name": "stdout",
     "output_type": "stream",
     "text": [
      "Connected to Elasticsearch!\n",
      "{'cluster_name': 'docker-cluster',\n",
      " 'cluster_uuid': 'DlYG5m9gR3upn7qgaYyAJA',\n",
      " 'name': '3d37442d2591',\n",
      " 'tagline': 'You Know, for Search',\n",
      " 'version': {'build_date': '2024-08-05T10:05:34.233336849Z',\n",
      "             'build_flavor': 'default',\n",
      "             'build_hash': '1a77947f34deddb41af25e6f0ddb8e830159c179',\n",
      "             'build_snapshot': False,\n",
      "             'build_type': 'docker',\n",
      "             'lucene_version': '9.11.1',\n",
      "             'minimum_index_compatibility_version': '7.0.0',\n",
      "             'minimum_wire_compatibility_version': '7.17.0',\n",
      "             'number': '8.15.0'}}\n"
     ]
    }
   ],
   "source": [
    "from pprint import pprint\n",
    "from elasticsearch import Elasticsearch\n",
    "\n",
    "es = Elasticsearch('http://localhost:9200')\n",
    "client_info = es.info()\n",
    "print('Connected to Elasticsearch!')\n",
    "pprint(client_info.body)"
   ]
  },
  {
   "cell_type": "markdown",
   "metadata": {},
   "source": [
    "## ILM policy"
   ]
  },
  {
   "cell_type": "markdown",
   "metadata": {},
   "source": [
    "If you want to modify other phases of the policy, check this [example](https://www.elastic.co/guide/en/elasticsearch/reference/current/set-up-tsds.html#tsds-ilm-policy) in the docs."
   ]
  },
  {
   "cell_type": "code",
   "execution_count": 12,
   "metadata": {},
   "outputs": [
    {
     "name": "stdout",
     "output_type": "stream",
     "text": [
      "{'acknowledged': True}\n"
     ]
    }
   ],
   "source": [
    "from pprint import pprint\n",
    "\n",
    "policy = {\n",
    "    \"phases\": {\n",
    "        \"hot\": {\n",
    "            \"actions\": {\n",
    "                \"rollover\": {\n",
    "                    \"max_age\": \"5m\",\n",
    "                }\n",
    "            }\n",
    "        },\n",
    "        \"delete\": {\n",
    "            \"min_age\": \"20m\",\n",
    "            \"actions\": {\n",
    "                \"delete\": {}\n",
    "            }\n",
    "        }\n",
    "    }\n",
    "}\n",
    "\n",
    "response = es.ilm.put_lifecycle(name=\"cpu_usage_policy\", policy=policy)\n",
    "pprint(response.body)"
   ]
  },
  {
   "cell_type": "markdown",
   "metadata": {},
   "source": [
    "## Index template"
   ]
  },
  {
   "cell_type": "code",
   "execution_count": null,
   "metadata": {},
   "outputs": [
    {
     "name": "stdout",
     "output_type": "stream",
     "text": [
      "{'acknowledged': True}\n"
     ]
    }
   ],
   "source": [
    "if es.indices.exists(index=\"cpu_usage_data\"):\n",
    "    es.indices.delete(index=\"cpu_usage_data\")\n",
    "\n",
    "response = es.indices.create_data_stream(name=\"cpu_usage_data\")\n",
    "print(response)"
   ]
  },
  {
   "cell_type": "code",
   "execution_count": 32,
   "metadata": {},
   "outputs": [
    {
     "name": "stdout",
     "output_type": "stream",
     "text": [
      "{'acknowledged': True}\n"
     ]
    }
   ],
   "source": [
    "response = es.indices.put_index_template(\n",
    "    name=\"cpu_usage_template\",\n",
    "    index_patterns=[\n",
    "        \"cpu_usage_data*\"  # Applies to any index starting with 'cpu_usage_data'\n",
    "    ],\n",
    "    data_stream={},\n",
    "    template={\n",
    "        \"settings\": {\n",
    "            \"index.mode\": \"time_series\",  # Enable time series data mode\n",
    "            \"index.lifecycle.name\": \"cpu_usage_policy\",  # Apply the ILM policy\n",
    "        },\n",
    "        \"mappings\": {\n",
    "            \"properties\": {\n",
    "                \"@timestamp\": {\n",
    "                    \"type\": \"date\"\n",
    "                },\n",
    "                \"cpu_usage\": {\n",
    "                    \"type\": \"float\",\n",
    "                    \"time_series_metric\": \"gauge\"\n",
    "                },\n",
    "                \"cpu_name\": {\n",
    "                    \"type\": \"keyword\",\n",
    "                    \"time_series_dimension\": True\n",
    "                }\n",
    "            }\n",
    "        }\n",
    "    },\n",
    "    priority=500,  # A priority higher than 200 to avoid collisions with built-in templates\n",
    "    meta={\n",
    "        \"description\": \"Template for CPU usage data\",\n",
    "    },\n",
    "    allow_auto_create=True\n",
    ")\n",
    "pprint(response.body)"
   ]
  },
  {
   "cell_type": "markdown",
   "metadata": {},
   "source": [
    "## Index data"
   ]
  },
  {
   "cell_type": "code",
   "execution_count": 56,
   "metadata": {},
   "outputs": [],
   "source": [
    "import psutil\n",
    "from datetime import datetime\n",
    "\n",
    "\n",
    "index_alias = \"cpu_usage_data\"\n",
    "counter = 0\n",
    "while counter < 100:\n",
    "    cpu_usage = psutil.cpu_percent(interval=0.1)\n",
    "    timestamp = datetime.utcnow()\n",
    "\n",
    "    document = {\n",
    "        \"@timestamp\": timestamp,\n",
    "        \"cpu_usage\": cpu_usage,\n",
    "        \"cpu_name\": \"i7-13650HX\"\n",
    "    }\n",
    "\n",
    "    es.index(index=index_alias, document=document, refresh=True)\n",
    "    counter += 1"
   ]
  },
  {
   "cell_type": "code",
   "execution_count": 59,
   "metadata": {},
   "outputs": [
    {
     "name": "stdout",
     "output_type": "stream",
     "text": [
      "{'data_streams': [{'_meta': {'description': 'Template for CPU usage data'},\n",
      "                   'allow_custom_routing': False,\n",
      "                   'generation': 1,\n",
      "                   'hidden': False,\n",
      "                   'ilm_policy': 'cpu_usage_policy',\n",
      "                   'indices': [{'ilm_policy': 'cpu_usage_policy',\n",
      "                                'index_name': '.ds-cpu_usage_data-2024.11.08-000001',\n",
      "                                'index_uuid': '3XA0CsNoTRChwu-1bTqpIQ',\n",
      "                                'managed_by': 'Index Lifecycle Management',\n",
      "                                'prefer_ilm': True}],\n",
      "                   'name': 'cpu_usage_data',\n",
      "                   'next_generation_managed_by': 'Index Lifecycle Management',\n",
      "                   'prefer_ilm': True,\n",
      "                   'replicated': False,\n",
      "                   'rollover_on_write': False,\n",
      "                   'status': 'YELLOW',\n",
      "                   'system': False,\n",
      "                   'template': 'cpu_usage_template',\n",
      "                   'time_series': {'temporal_ranges': [{'end': '2024-11-08T07:32:23.000Z',\n",
      "                                                        'start': '2024-11-08T04:53:28.000Z'}]},\n",
      "                   'timestamp_field': {'name': '@timestamp'}}]}\n"
     ]
    }
   ],
   "source": [
    "response = es.indices.get_data_stream()\n",
    "pprint(response.body)"
   ]
  },
  {
   "cell_type": "markdown",
   "metadata": {},
   "source": [
    "## Monitoring the index lifecycle"
   ]
  },
  {
   "cell_type": "code",
   "execution_count": 69,
   "metadata": {},
   "outputs": [
    {
     "name": "stdout",
     "output_type": "stream",
     "text": [
      "{'cpu_usage_policy': {'in_use_by': {'composable_templates': ['cpu_usage_template'],\n",
      "                                    'data_streams': ['cpu_usage_data'],\n",
      "                                    'indices': ['.ds-cpu_usage_data-2024.11.08-000001',\n",
      "                                                '.ds-cpu_usage_data-2024.11.08-000002']},\n",
      "                      'modified_date': '2024-11-07T22:31:34.212Z',\n",
      "                      'policy': {'phases': {'delete': {'actions': {'delete': {'delete_searchable_snapshot': True}},\n",
      "                                                       'min_age': '20m'},\n",
      "                                            'hot': {'actions': {'rollover': {'max_age': '5m'}},\n",
      "                                                    'min_age': '0ms'}}},\n",
      "                      'version': 2}}\n"
     ]
    }
   ],
   "source": [
    "ilm_status = es.ilm.get_lifecycle(name=\"cpu_usage_policy\")\n",
    "pprint(ilm_status.body)"
   ]
  },
  {
   "cell_type": "code",
   "execution_count": 68,
   "metadata": {},
   "outputs": [
    {
     "name": "stdout",
     "output_type": "stream",
     "text": [
      "{'indices': {'.ds-cpu_usage_data-2024.11.08-000001': {'action': 'complete',\n",
      "                                                      'action_time_millis': 1731049343867,\n",
      "                                                      'age': '15.03s',\n",
      "                                                      'index': '.ds-cpu_usage_data-2024.11.08-000001',\n",
      "                                                      'index_creation_date_millis': 1731048808429,\n",
      "                                                      'lifecycle_date_millis': 1731049343666,\n",
      "                                                      'managed': True,\n",
      "                                                      'phase': 'hot',\n",
      "                                                      'phase_execution': {'modified_date_in_millis': 1731018694212,\n",
      "                                                                          'phase_definition': {'actions': {'rollover': {'max_age': '5m',\n",
      "                                                                                                                        'max_primary_shard_docs': 200000000,\n",
      "                                                                                                                        'min_docs': 1}},\n",
      "                                                                                               'min_age': '0ms'},\n",
      "                                                                          'policy': 'cpu_usage_policy',\n",
      "                                                                          'version': 2},\n",
      "                                                      'phase_time_millis': 1731048808498,\n",
      "                                                      'policy': 'cpu_usage_policy',\n",
      "                                                      'step': 'complete',\n",
      "                                                      'step_time_millis': 1731049343867,\n",
      "                                                      'time_since_index_creation': '9.17m'}}}\n"
     ]
    }
   ],
   "source": [
    "response = es.ilm.explain_lifecycle(\n",
    "    index=\".ds-cpu_usage_data-2024.11.08-000001\")\n",
    "pprint(response.body)"
   ]
  },
  {
   "cell_type": "markdown",
   "metadata": {},
   "source": [
    "## Get documents"
   ]
  },
  {
   "cell_type": "code",
   "execution_count": 62,
   "metadata": {},
   "outputs": [
    {
     "name": "stdout",
     "output_type": "stream",
     "text": [
      "{'_shards': {'failed': 0, 'skipped': 0, 'successful': 1, 'total': 1},\n",
      " 'count': 200}\n"
     ]
    }
   ],
   "source": [
    "count = es.count(index=\"cpu_usage_data\")\n",
    "pprint(count.body)"
   ]
  },
  {
   "cell_type": "code",
   "execution_count": 64,
   "metadata": {},
   "outputs": [],
   "source": [
    "response = es.search(\n",
    "    index=\"cpu_usage_data\",\n",
    "    body={\n",
    "        \"query\": {\n",
    "            \"match_all\": {}\n",
    "        },\n",
    "        \"size\": 1000\n",
    "    },\n",
    ")\n",
    "hits = response.body[\"hits\"][\"hits\"]"
   ]
  },
  {
   "cell_type": "markdown",
   "metadata": {},
   "source": [
    "## Plot the time series data"
   ]
  },
  {
   "cell_type": "code",
   "execution_count": 65,
   "metadata": {},
   "outputs": [
    {
     "data": {
      "image/png": "[encoded data removed]",
      "text/plain": [
       "<Figure size 1000x500 with 1 Axes>"
      ]
     },
     "metadata": {},
     "output_type": "display_data"
    }
   ],
   "source": [
    "import matplotlib.pyplot as plt\n",
    "\n",
    "cpu_usage_values = [hit[\"_source\"][\"cpu_usage\"] for hit in hits]\n",
    "timestamp_values = [hit[\"_source\"][\"@timestamp\"] for hit in hits]\n",
    "\n",
    "plt.figure(figsize=(10, 5))\n",
    "plt.plot(timestamp_values, cpu_usage_values)\n",
    "plt.xticks([])\n",
    "plt.xlabel(\"Timestamp\")\n",
    "plt.ylabel(\"CPU Usage (%)\")\n",
    "plt.title(\"CPU usage over time\")\n",
    "plt.grid(True)\n",
    "plt.show()"
   ]
  },
  {
   "cell_type": "markdown",
   "metadata": {},
   "source": [
    "## Aggregations"
   ]
  },
  {
   "cell_type": "code",
   "execution_count": 66,
   "metadata": {},
   "outputs": [
    {
     "name": "stdout",
     "output_type": "stream",
     "text": [
      "Average CPU usage: 7.526499993801117%\n"
     ]
    }
   ],
   "source": [
    "response = es.search(\n",
    "    index=\"cpu_usage_data\",\n",
    "    body={\n",
    "        \"aggs\": {\n",
    "            \"avg_cpu_usage\": {\n",
    "                \"avg\": {\n",
    "                    \"field\": \"cpu_usage\"\n",
    "                }\n",
    "            }\n",
    "        },\n",
    "    },\n",
    ")\n",
    "average_cpu_usage = response.body[\"aggregations\"][\"avg_cpu_usage\"][\"value\"]\n",
    "print(f\"Average CPU usage: {average_cpu_usage}%\")"
   ]
  },
  {
   "cell_type": "code",
   "execution_count": 67,
   "metadata": {},
   "outputs": [
    {
     "name": "stdout",
     "output_type": "stream",
     "text": [
      "Max CPU usage: 48.400001525878906%\n"
     ]
    }
   ],
   "source": [
    "response = es.search(\n",
    "    index=\"cpu_usage_data\",\n",
    "    body={\n",
    "        \"aggs\": {\n",
    "            \"max_cpu_usage\": {\n",
    "                \"max\": {\n",
    "                    \"field\": \"cpu_usage\"\n",
    "                }\n",
    "            }\n",
    "        },\n",
    "    },\n",
    ")\n",
    "max_cpu_usage = response.body[\"aggregations\"][\"max_cpu_usage\"][\"value\"]\n",
    "print(f\"Max CPU usage: {max_cpu_usage}%\")"
   ]
  }
 ],
 "metadata": {
  "kernelspec": {
   "display_name": "elastic_search",
   "language": "python",
   "name": "python3"
  },
  "language_info": {
   "codemirror_mode": {
    "name": "ipython",
    "version": 3
   },
   "file_extension": ".py",
   "mimetype": "text/x-python",
   "name": "python",
   "nbconvert_exporter": "python",
   "pygments_lexer": "ipython3",
   "version": "3.11.9"
  }
 },
 "nbformat": 4,
 "nbformat_minor": 2
}
